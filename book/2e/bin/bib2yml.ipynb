{
 "cells": [
  {
   "cell_type": "code",
   "execution_count": 4,
   "metadata": {},
   "outputs": [
    {
     "name": "stdout",
     "output_type": "stream",
     "text": [
      "Collecting pybtex\n",
      "  Downloading pybtex-0.24.0-py2.py3-none-any.whl (561 kB)\n",
      "\u001b[K     |████████████████████████████████| 561 kB 1.9 MB/s eta 0:00:01\n",
      "\u001b[?25hCollecting latexcodec>=1.0.4\n",
      "  Downloading latexcodec-2.0.1-py2.py3-none-any.whl (18 kB)\n",
      "Requirement already satisfied: six in /opt/conda/lib/python3.8/site-packages (from pybtex) (1.15.0)\n",
      "Requirement already satisfied: PyYAML>=3.01 in /opt/conda/lib/python3.8/site-packages (from pybtex) (5.3.1)\n",
      "Installing collected packages: latexcodec, pybtex\n",
      "Successfully installed latexcodec-2.0.1 pybtex-0.24.0\n"
     ]
    }
   ],
   "source": [
    "! pip install pybtex"
   ]
  },
  {
   "cell_type": "code",
   "execution_count": 5,
   "metadata": {},
   "outputs": [],
   "source": [
    "from pybtex.database import parse_file\n",
    "from sys import stdout, stderr\n",
    "from yaml import safe_dump"
   ]
  },
  {
   "cell_type": "code",
   "execution_count": 7,
   "metadata": {},
   "outputs": [],
   "source": [
    "def clean(s):\n",
    "    return s.replace(\"{\", \"\").replace(\"}\",\"\")"
   ]
  },
  {
   "cell_type": "code",
   "execution_count": 8,
   "metadata": {},
   "outputs": [],
   "source": [
    "def get_author(a):\n",
    "    parts = []\n",
    "    \n",
    "    if len(a.first_names) > 0:\n",
    "        parts += [\" \".join(a.first_names)]\n",
    "    if len(a.middle_names) > 0:\n",
    "        parts += [\"\".join(a.middle_names)]\n",
    "    if len(a.last_names) > 0:\n",
    "        parts += [\"\".join(a.last_names)]\n",
    "\n",
    "    if len(parts):\n",
    "        return clean(\" \".join(parts))\n",
    "    else:\n",
    "        return \"Unknown\""
   ]
  },
  {
   "cell_type": "code",
   "execution_count": 9,
   "metadata": {},
   "outputs": [],
   "source": [
    "def get_authors(entry):\n",
    "    return [get_author(x) for x in entry.persons[\"author\"]]"
   ]
  },
  {
   "cell_type": "code",
   "execution_count": 10,
   "metadata": {},
   "outputs": [],
   "source": [
    "def get_description(entry):\n",
    "    return clean(entry.fields[\"title\"].split(\"--\")[1].strip())"
   ]
  },
  {
   "cell_type": "code",
   "execution_count": 14,
   "metadata": {},
   "outputs": [
    {
     "name": "stdout",
     "output_type": "stream",
     "text": [
      "fold:\n",
      "  author:\n",
      "  - David MacKenzie\n",
      "  bib_title: '{fold} -- Wrap each input line to fit in specified width'\n",
      "  cite: true\n",
      "  description: Wrap each input line to fit in specified width\n",
      "  url: https://www.gnu.org/software/coreutils\n",
      "  version: '8.30'\n",
      "  year: 2020\n",
      "\n"
     ]
    },
    {
     "name": "stderr",
     "output_type": "stream",
     "text": [
      "fold\n"
     ]
    }
   ],
   "source": [
    "bib = parse_file(\"../tools.bib\")\n",
    "\n",
    "tools = {}\n",
    "\n",
    "for tool_name in sorted(bib.entries, key = lambda x: x.lower()):\n",
    "    if tool_name != \"fold\":\n",
    "        continue\n",
    "    entry = bib.entries[tool_name]\n",
    "    stderr.write(f\"{tool_name}\\n\")\n",
    "    \n",
    "    tools[tool_name] = {\n",
    "        \"bib_title\": entry.fields[\"title\"],\n",
    "        \"author\": get_authors(entry),\n",
    "        \"description\": get_description(entry),\n",
    "        \"version\": entry.fields[\"version\"],\n",
    "        \"url\": entry.fields[\"url\"],\n",
    "        \"year\": int(entry.fields[\"year\"]),\n",
    "        \"cite\": True\n",
    "    }\n",
    "\n",
    "print(safe_dump(tools))"
   ]
  },
  {
   "cell_type": "code",
   "execution_count": 148,
   "metadata": {},
   "outputs": [
    {
     "data": {
      "text/plain": [
       "\u001b[0;31mSignature:\u001b[0m \u001b[0msafe_dump\u001b[0m\u001b[0;34m(\u001b[0m\u001b[0mdata\u001b[0m\u001b[0;34m,\u001b[0m \u001b[0mstream\u001b[0m\u001b[0;34m=\u001b[0m\u001b[0;32mNone\u001b[0m\u001b[0;34m,\u001b[0m \u001b[0;34m**\u001b[0m\u001b[0mkwds\u001b[0m\u001b[0;34m)\u001b[0m\u001b[0;34m\u001b[0m\u001b[0;34m\u001b[0m\u001b[0m\n",
       "\u001b[0;31mDocstring:\u001b[0m\n",
       "Serialize a Python object into a YAML stream.\n",
       "Produce only basic YAML tags.\n",
       "If stream is None, return the produced string instead.\n",
       "\u001b[0;31mFile:\u001b[0m      /opt/conda/lib/python3.8/site-packages/yaml/__init__.py\n",
       "\u001b[0;31mType:\u001b[0m      function\n"
      ]
     },
     "metadata": {},
     "output_type": "display_data"
    }
   ],
   "source": [
    "safe_dump?"
   ]
  },
  {
   "cell_type": "code",
   "execution_count": 124,
   "metadata": {},
   "outputs": [
    {
     "data": {
      "text/plain": [
       "'entries:\\n    R:\\n        type: software\\n        title: \\'{R} -- A Language and Environment for Statistical Computing\\'\\n        year: \\'2021\\'\\n        version: 4.0.4\\n        url: https://www.r-project.org\\n        author:\\n        -   last: \\'{The R Foundation for Statistical Computing}\\'\\n    awk:\\n        type: software\\n        title: \\'{mawk} -- Pattern scanning and text processing language\\'\\n        url: https://invisible-island.net/mawk\\n        year: \\'2019\\'\\n        version: 1.3.4\\n        author:\\n        -   first: Mike\\n            middle: D.\\n            last: Brennan\\n        -   first: Thomas\\n            middle: E.\\n            last: Dickey\\n    aws:\\n        type: software\\n        title: \\'{aws} -- Unified tool to manage {AWS} services\\'\\n        url: https://aws.amazon.com/cli\\n        version: 2.1.32\\n        year: \\'2021\\'\\n        author:\\n        -   last: \\'{Amazon Web Services}\\'\\n    bash:\\n        type: software\\n        title: \\'{bash} -- {GNU Bourne-Again SHell}\\'\\n        url: https://www.gnu.org/software/bash\\n        version: 5.0.17\\n        year: \\'2019\\'\\n        author:\\n        -   first: Brian\\n            last: Fox\\n        -   first: Chet\\n            last: Ramey\\n    bat:\\n        type: software\\n        title: \\'{bat} -- A {cat} clone with syntax highlighting and Git integration\\'\\n        url: https://github.com/sharkdp/bat\\n        version: 0.18.0\\n        year: \\'2021\\'\\n        author:\\n        -   first: David\\n            last: Peter\\n    bc:\\n        type: software\\n        title: \\'{bc} -- An arbitrary precision calculator language\\'\\n        url: https://www.gnu.org/software/bc\\n        version: 1.07.1\\n        year: \\'2017\\'\\n        author:\\n        -   first: Philip\\n            middle: A.\\n            last: Nelson\\n    body:\\n        type: software\\n        title: \\'{body} -- Apply command to all but the first line\\'\\n        url: https://github.com/jeroenjanssens/dsutils\\n        year: \\'2021\\'\\n        author:\\n        -   first: Jeroen\\n            last: Janssens\\n    cat:\\n        type: software\\n        title: \\'{cat} -- Concatenate files and print on the standard output\\'\\n        url: https://www.gnu.org/software/coreutils\\n        version: \\'8.30\\'\\n        year: \\'2018\\'\\n        author:\\n        -   first: Torbjorn\\n            last: Granlund\\n        -   first: Richard\\n            middle: M.\\n            last: Stallman\\n    chmod:\\n        type: software\\n        title: \\'{chmod} -- Change file mode bits\\'\\n        url: https://www.gnu.org/software/coreutils\\n        version: \\'8.30\\'\\n        year: \\'2018\\'\\n        author:\\n        -   first: David\\n            last: MacKenzie\\n        -   first: Jim\\n            last: Meyering\\n    cols:\\n        type: software\\n        title: \\'{cols} -- Apply command to subset of columns\\'\\n        url: https://github.com/jeroenjanssens/dsutils\\n        year: \\'2021\\'\\n        author:\\n        -   first: Jeroen\\n            last: Janssens\\n    cowsay:\\n        type: software\\n        title: \\'{cowsay} -- Configurable speaking cow\\'\\n        url: https://github.com/tnalpgge/rank-amateur-cowsay\\n        version: 3.0.3\\n        year: \\'1999\\'\\n        author:\\n        -   first: Tony\\n            last: Monroe\\n    cp:\\n        type: software\\n        title: \\'{cp} -- Copy files and directories\\'\\n        url: https://www.gnu.org/software/coreutils\\n        version: \\'8.30\\'\\n        year: \\'2018\\'\\n        author:\\n        -   first: Torbjorn\\n            last: Granlund\\n        -   first: David\\n            last: MacKenzie\\n        -   first: Jim\\n            last: Meyering\\n    csvcut:\\n        type: software\\n        title: \\'{csvcut} -- Filter and truncate {CSV} files\\'\\n        url: https://csvkit.rtfd.org\\n        version: 1.0.5\\n        year: \\'2020\\'\\n        author:\\n        -   first: Christopher\\n            last: Groskopf\\n    csvgrep:\\n        type: software\\n        title: \\'{csvgrep} -- Search {CSV} files\\'\\n        url: https://csvkit.rtfd.org\\n        version: 1.0.5\\n        year: \\'2020\\'\\n        author:\\n        -   first: Christopher\\n            last: Groskopf\\n    csvjoin:\\n        type: software\\n        title: \\'{csvjoin} -- Execute a {SQL}-like join to merge {CSV} files on a specified\\n            column or columns\\'\\n        url: https://csvkit.rtfd.org\\n        version: 1.0.5\\n        year: \\'2020\\'\\n        author:\\n        -   first: Christopher\\n            last: Groskopf\\n    csvkit:\\n        type: software\\n        title: \\'{csvkit} -- A suite of command-line tools for converting to and working\\n            with {CSV}\\'\\n        url: https://csvkit.rtfd.org\\n        version: 1.0.5\\n        year: \\'2020\\'\\n        author:\\n        -   first: Christopher\\n            last: Groskopf\\n    csvlook:\\n        type: software\\n        title: \\'{csvlook} -- Render a {CSV} file in the console as a Markdown-compatible,\\n            fixed-width table\\'\\n        url: https://csvkit.rtfd.org\\n        version: 1.0.5\\n        year: \\'2020\\'\\n        author:\\n        -   first: Christopher\\n            last: Groskopf\\n    csvquote:\\n        type: software\\n        title: \\'{csvquote} -- Enable common unix utlities to work correctly with {CSV}\\n            data\\'\\n        url: https://github.com/dbro/csvquote\\n        year: \\'2018\\'\\n        author:\\n        -   first: Dan\\n            last: Brown\\n    csvsort:\\n        type: software\\n        title: \\'{csvsort} -- Sort {CSV} files\\'\\n        url: https://csvkit.rtfd.org\\n        version: 1.0.5\\n        year: \\'2020\\'\\n        author:\\n        -   first: Christopher\\n            last: Groskopf\\n    csvsql:\\n        type: software\\n        title: \\'{csvsql} -- Execute {SQL} statements on {CSV} files\\'\\n        url: https://csvkit.rtfd.org\\n        version: 1.0.5\\n        year: \\'2020\\'\\n        author:\\n        -   first: Christopher\\n            last: Groskopf\\n    csvstack:\\n        type: software\\n        title: \\'{csvstack} -- Stack up the rows from multiple {CSV} files\\'\\n        url: https://csvkit.rtfd.org\\n        version: 1.0.5\\n        year: \\'2020\\'\\n        author:\\n        -   first: Christopher\\n            last: Groskopf\\n    csvstat:\\n        type: software\\n        title: \\'{csvstat} -- Print descriptive statistics for each column in a {CSV}\\n            file\\'\\n        url: https://csvkit.rtfd.org\\n        version: 1.0.5\\n        year: \\'2020\\'\\n        author:\\n        -   first: Christopher\\n            last: Groskopf\\n    curl:\\n        type: software\\n        title: \\'{curl} -- Transfer a {URL}\\'\\n        url: https://curl.haxx.se\\n        version: 7.68.0\\n        year: \\'2016\\'\\n        author:\\n        -   first: Daniel\\n            last: Stenberg\\n    cut:\\n        type: software\\n        title: \\'{cut} -- Remove sections from each line of files\\'\\n        url: https://www.gnu.org/software/coreutils\\n        version: \\'8.30\\'\\n        year: \\'2019\\'\\n        author:\\n        -   first: David\\n            middle: M.\\n            last: Ihnat\\n        -   first: David\\n            last: MacKenzie\\n        -   first: Jim\\n            last: Meyering\\n    display:\\n        type: software\\n        title: \\'{display} -- Displays an image or image sequence on any {X} server\\'\\n        url: https://imagemagick.org\\n        version: 6.9.10-23\\n        year: \\'2019\\'\\n        author:\\n        -   first: ImageMagick\\n            middle: Studio\\n            last: LLC\\n    drake:\\n        type: software\\n        title: \\'{drake} -- Data workflow tool, like a \"Make for data\"\\'\\n        url: https://github.com/Factual/drake\\n        version: 1.0.3\\n        year: \\'2016\\'\\n        author:\\n        -   last: Factual\\n    dseq:\\n        type: software\\n        title: \\'{dseq} -- Generate sequence of dates\\'\\n        url: https://github.com/jeroenjanssens/dsutils\\n        year: \\'2021\\'\\n        author:\\n        -   first: Jeroen\\n            last: Janssens\\n    echo:\\n        type: software\\n        title: \\'{echo} -- Display a line of text\\'\\n        url: https://www.gnu.org/software/coreutils\\n        version: \\'8.30\\'\\n        year: \\'2019\\'\\n        author:\\n        -   first: Brian\\n            last: Fox\\n        -   first: Chet\\n            last: Ramey\\n    env:\\n        type: software\\n        title: \\'{env} -- Run a program in a modified environment\\'\\n        url: https://www.gnu.org/software/coreutils\\n        version: \\'8.30\\'\\n        year: \\'2018\\'\\n        author:\\n        -   first: Richard\\n            last: Mlynarik\\n        -   first: David\\n            last: MacKenzie\\n        -   first: Assaf\\n            last: Gordon\\n    find:\\n        type: software\\n        title: \\'{find} -- Search for files in a directory hierarchy\\'\\n        url: https://www.gnu.org/software/findutils\\n        version: 4.7.0\\n        year: \\'2019\\'\\n        author:\\n        -   first: Eric\\n            middle: B.\\n            last: Decker\\n        -   first: James\\n            last: Youngman\\n        -   first: Kevin\\n            last: Dalley\\n    fx:\\n        type: software\\n        title: \\'{fx} -- Interactive {JSON} viewer\\'\\n        url: https://github.com/antonmedv/fx\\n        version: 20.0.2\\n        year: \\'2020\\'\\n        author:\\n        -   first: Anton\\n            last: Medvedev\\n    git:\\n        type: software\\n        title: \\'{git} -- The stupid content tracker\\'\\n        url: https://git-scm.com\\n        version: 2.25.1\\n        year: \\'2021\\'\\n        author:\\n        -   first: Linus\\n            last: Torvalds\\n        -   first: Junio\\n            middle: C.\\n            last: Hamano\\n    grep:\\n        type: software\\n        title: \\'{grep} -- Print lines that match patterns\\'\\n        url: https://www.gnu.org/software/grep\\n        version: \\'3.4\\'\\n        year: \\'2019\\'\\n        author:\\n        -   first: Jim\\n            last: Meyering\\n    gron:\\n        type: software\\n        title: \\'{gron} -- Make JSON greppable\\'\\n        url: https://github.com/TomNomNom/gron\\n        year: \\'2021\\'\\n        version: 0.6.1\\n        author:\\n        -   first: Tom\\n            last: Hudson\\n    head:\\n        type: software\\n        title: \\'{head} -- Output the first part of files\\'\\n        version: \\'8.30\\'\\n        url: https://www.gnu.org/software/coreutils\\n        year: \\'2019\\'\\n        author:\\n        -   first: David\\n            last: MacKenzie\\n        -   first: Jim\\n            last: Meyering\\n    header:\\n        type: software\\n        title: \\'{header} -- Add, replace, and delete header lines\\'\\n        url: https://github.com/jeroenjanssens/dsutils\\n        year: \\'2021\\'\\n        author:\\n        -   first: Jeroen\\n            last: Janssens\\n    hostname:\\n        type: software\\n        title: \\'{hostname} -- Show or set the system\\'\\'s host name\\'\\n        url: https://sourceforge.net/projects/net-tools/\\n        version: \\'3.23\\'\\n        year: \\'2021\\'\\n        author:\\n        -   first: Peter\\n            last: Tobias\\n        -   first: Bernd\\n            last: Eckenfels\\n        -   first: Michael\\n            last: Meskes\\n    in2csv:\\n        type: software\\n        title: \\'{in2csv} -- Convert common, but less awesome, tabular data formats\\n            to {CSV}\\'\\n        url: https://csvkit.rtfd.org\\n        version: 1.0.5\\n        year: \\'2020\\'\\n        author:\\n        -   first: Christopher\\n            last: Groskopf\\n    jq:\\n        type: software\\n        title: \\'{jq} -- Command-line {JSON} processor\\'\\n        url: https://stedolan.github.com/jq\\n        year: \\'2021\\'\\n        version: \\'1.6\\'\\n        author:\\n        -   first: Stephen\\n            last: Dolan\\n    json2csv:\\n        type: software\\n        title: \\'{json2csv} -- Convert {JSON} to {CSV}\\'\\n        url: https://github.com/jehiah/json2csv\\n        version: 1.2.1\\n        year: \\'2019\\'\\n        author:\\n        -   first: Jehiah\\n            last: Czebotar\\n    less:\\n        type: software\\n        title: \\'{less} -- opposite of {more}\\'\\n        url: https://www.greenwoodsoftware.com/less\\n        version: \\'551\\'\\n        year: \\'2019\\'\\n        author:\\n        -   first: Mark\\n            last: Nudelman\\n    ls:\\n        type: software\\n        title: \\'{ls} -- List directory contents\\'\\n        url: https://www.gnu.org/software/coreutils\\n        version: \\'8.30\\'\\n        year: \\'2019\\'\\n        author:\\n        -   first: Richard\\n            middle: M.\\n            last: Stallman\\n        -   first: David\\n            last: MacKenzie\\n    make:\\n        type: software\\n        title: \\'{make} -- {A} Program for Maintaining Computer Programs\\'\\n        journal: \\'Software: Practice and Experience\\'\\n        year: \\'1979\\'\\n        volume: \\'9\\'\\n        number: \\'4\\'\\n        pages: 255--265\\n        publisher: Wiley Online Library\\n        author:\\n        -   first: Stuart\\n            middle: I.\\n            last: Feldman\\n    man:\\n        type: software\\n        title: \\'{man} -- An interface to the system reference manuals\\'\\n        url: https://nongnu.org/man-db\\n        version: 2.9.1\\n        year: \\'2020\\'\\n        author:\\n        -   first: John\\n            middle: W.\\n            last: Eaton\\n        -   first: Colin\\n            last: Watson\\n    mkdir:\\n        type: software\\n        title: \\'{mkdir} -- Make directories\\'\\n        url: https://www.gnu.org/software/coreutils\\n        version: \\'8.30\\'\\n        year: \\'2019\\'\\n        author:\\n        -   first: David\\n            last: MacKenzie\\n    mv:\\n        type: software\\n        title: \\'{mv} -- Move (rename) files\\'\\n        url: https://www.gnu.org/software/coreutils\\n        version: \\'8.30\\'\\n        year: \\'2020\\'\\n        author:\\n        -   first: Mike\\n            last: Parker\\n        -   first: David\\n            last: MacKenzie\\n        -   first: Jim\\n            last: Meyering\\n    nl:\\n        type: software\\n        title: \\'{nl} -- Number lines of files\\'\\n        url: https://www.gnu.org/software/coreutils\\n        version: \\'8.30\\'\\n        year: \\'2020\\'\\n        author:\\n        -   first: Scott\\n            last: Bartram\\n        -   first: David\\n            last: MacKenzie\\n    parallel:\\n        type: software\\n        title: \\'{parallel} -- Build and execute shell command lines from standard\\n            input in parallel\\'\\n        url: https://www.gnu.org/software/parallel\\n        version: \\'20161222\\'\\n        year: \\'2016\\'\\n        author:\\n        -   first: Ole\\n            last: Tange\\n    paste:\\n        type: software\\n        title: \\'{paste} -- Merge lines of files\\'\\n        url: https://www.gnu.org/software/coreutils\\n        version: \\'8.30\\'\\n        year: \\'2019\\'\\n        author:\\n        -   first: David\\n            middle: M.\\n            last: Ihnat\\n        -   first: David\\n            last: MacKenzie\\n    pbc:\\n        type: software\\n        title: \\'{pbc} -- Parallel {bc}\\'\\n        url: https://github.com/jeroenjanssens/dsutils\\n        year: \\'2021\\'\\n        author:\\n        -   first: Jeroen\\n            last: Janssens\\n    pip:\\n        type: software\\n        title: \\'{pip} -- A tool for installing and managing Python packages\\'\\n        url: https://pip.pypa.io\\n        version: 20.0.2\\n        year: \\'2020\\'\\n        author:\\n        -   last: PyPA\\n    pwd:\\n        type: software\\n        title: \\'{pwd} -- Print name of working directory\\'\\n        url: https://www.gnu.org/software/coreutils\\n        version: \\'8.30\\'\\n        year: \\'2019\\'\\n        author:\\n        -   first: Jim\\n            last: Meyering\\n    python:\\n        type: software\\n        title: \\'{python} -- An interpreted, interactive, object-oriented programming\\n            language\\'\\n        url: https://www.python.org\\n        year: \\'2021\\'\\n        version: 3.8.5\\n        author:\\n        -   last: \\'{The Python Software Foundation}\\'\\n    rm:\\n        type: software\\n        title: \\'{rm} -- Remove files or directories\\'\\n        url: https://www.gnu.org/software/coreutils\\n        version: \\'8.30\\'\\n        year: \\'2019\\'\\n        author:\\n        -   first: Paul\\n            last: Rubin\\n        -   first: David\\n            last: MacKenzie\\n        -   first: Richard\\n            middle: M.\\n            last: Stallman\\n        -   first: Jim\\n            last: Meyering\\n    rush:\\n        type: software\\n        title: \\'{rush} -- {R} One-Liners from the Shell\\'\\n        url: https://github.com/jeroenjanssens/rush\\n        version: \\'0.1\\'\\n        year: \\'2021\\'\\n        author:\\n        -   first: Jeroen\\n            last: Janssens\\n    sample:\\n        type: software\\n        title: \\'{sample} -- Filter lines from standard input according to some probability,\\n            with a given delay, and for a certain duration\\'\\n        url: https://github.com/jeroenjanssens/sample-stream\\n        version: 0.2.4\\n        year: \\'2021\\'\\n        author:\\n        -   first: Jeroen\\n            last: Janssens\\n    scp:\\n        type: software\\n        title: \\'{scp} -- {OpenSSH} secure file copy\\'\\n        url: https://www.openssh.com\\n        version: 1:8.2p1-4ubuntu0.2\\n        year: \\'2019\\'\\n        author:\\n        -   first: Timo\\n            last: Rinne\\n        -   first: Tatu\\n            last: Ylonen\\n    scrape:\\n        type: software\\n        title: \\'{scrape} -- Extract {HTML} elements using an {XPath} query or {CSS3}\\n            selector\\'\\n        url: https://github.com/jeroenjanssens/dsutils\\n        year: \\'2021\\'\\n        author:\\n        -   first: Jeroen\\n            last: Janssens\\n    sed:\\n        type: software\\n        title: \\'{sed} -- Stream editor for filtering and transforming text\\'\\n        url: https://www.gnu.org/software/sed\\n        version: \\'4.7\\'\\n        year: \\'2018\\'\\n        author:\\n        -   first: Jay\\n            last: Fenlason\\n        -   first: Tom\\n            last: Lord\\n        -   first: Ken\\n            last: Pizzini\\n        -   first: Paolo\\n            last: Bonzini\\n    seq:\\n        type: software\\n        title: \\'{seq} -- Print a sequence of numbers\\'\\n        url: https://www.gnu.org/software/coreutils\\n        version: \\'8.30\\'\\n        year: \\'2019\\'\\n        author:\\n        -   first: Ulrich\\n            last: Drepper\\n    shuf:\\n        type: software\\n        title: \\'{shuf} -- Generate random permutations\\'\\n        url: https://www.gnu.org/software/coreutils\\n        version: \\'8.30\\'\\n        year: \\'2019\\'\\n        author:\\n        -   first: Paul\\n            last: Eggert\\n    skll:\\n        type: software\\n        title: \\'{skll} -- {SciKit-Learn} Laboratory\\'\\n        url: https://skll.readthedocs.org\\n        version: 2.5.0\\n        year: \\'2021\\'\\n        author:\\n        -   last: \\'{Educational Testing Service}\\'\\n    sort:\\n        type: software\\n        title: \\'{sort} -- Sort lines of text files\\'\\n        url: https://www.gnu.org/software/coreutils\\n        version: \\'8.30\\'\\n        year: \\'2019\\'\\n        author:\\n        -   first: Mike\\n            last: Haertel\\n        -   first: Paul\\n            last: Eggert\\n    split:\\n        type: software\\n        title: \\'{split} -- Split a file into pieces\\'\\n        url: https://www.gnu.org/software/coreutils\\n        version: \\'8.30\\'\\n        year: \\'2019\\'\\n        author:\\n        -   first: Torbjorn\\n            last: Granlund\\n        -   first: Richard\\n            middle: M.\\n            last: Stallman\\n    sql2csv:\\n        type: software\\n        title: \\'{sql2csv} -- Execute an {SQL} query on a database and output the result\\n            to a {CSV} file\\'\\n        url: https://csvkit.rtfd.org\\n        version: 1.0.5\\n        year: \\'2020\\'\\n        author:\\n        -   first: Christopher\\n            last: Groskopf\\n    ssh:\\n        type: software\\n        title: \\'{ssh} -- {OpenSSH} remote login client\\'\\n        url: https://www.openssh.com\\n        version: 1:8.2p1-4ubuntu0.2\\n        year: \\'2020\\'\\n        author:\\n        -   first: Tatu\\n            last: Ylonen\\n        -   first: Aaron\\n            last: Campbell\\n        -   first: Bob\\n            last: Beck\\n        -   first: Markus\\n            last: Friedl\\n        -   first: Niels\\n            last: Provos\\n        -   first: Theo\\n            prelast: de\\n            last: Raadt\\n        -   first: Dug\\n            last: Song\\n        -   first: Markus\\n            last: Friedl\\n    sudo:\\n        type: software\\n        title: \\'{sudo} -- Execute a command as another user\\'\\n        url: https://www.sudo.ws\\n        version: 1.8.31\\n        year: \\'2019\\'\\n        author:\\n        -   first: Todd\\n            middle: C.\\n            last: Miller\\n    tail:\\n        type: software\\n        title: \\'{tail} -- Output the last part of files\\'\\n        url: https://www.gnu.org/software/coreutils\\n        year: \\'2019\\'\\n        version: \\'8.30\\'\\n        author:\\n        -   first: Paul\\n            last: Rubin\\n        -   first: David\\n            last: MacKenzie\\n        -   first: Ian\\n            middle: Lance\\n            last: Taylor\\n        -   first: Jim\\n            last: Meyering\\n    tapkee:\\n        type: software\\n        title: \\'{tapkee} -- An efficient dimension reduction library\\'\\n        journal: Journal of Machine Learning Research\\n        volume: \\'14\\'\\n        pages: 2355--2359\\n        year: \\'2013\\'\\n        url: http://tapkee.lisitsyn.me\\n        author:\\n        -   first: Sergey\\n            last: Lisitsyn\\n        -   first: Christian\\n            last: Widmer\\n        -   first: Fernando\\n            middle: J. Iglesias\\n            last: Garcia\\n    tar:\\n        type: software\\n        title: \\'{tar} -- An archiving utility\\'\\n        url: https://www.gnu.org/software/tar\\n        version: \\'1.30\\'\\n        year: \\'2014\\'\\n        author:\\n        -   first: John\\n            last: Gilmore\\n        -   first: Jay\\n            last: Fenlason\\n    tee:\\n        type: software\\n        title: \\'{tee} -- Read from standard input and write to standard output and\\n            files\\'\\n        url: https://www.gnu.org/software/coreutils\\n        version: \\'8.30\\'\\n        year: \\'2019\\'\\n        author:\\n        -   first: Mike\\n            last: Parker\\n        -   first: Richard\\n            middle: M.\\n            last: Stallman\\n        -   first: David\\n            last: MacKenzie\\n    tr:\\n        type: software\\n        title: \\'{tr} -- Translate or delete characters\\'\\n        url: https://www.gnu.org/software/coreutils\\n        version: \\'8.30\\'\\n        year: \\'2018\\'\\n        author:\\n        -   first: Jim\\n            last: Meyering\\n    tree:\\n        type: software\\n        title: \\'{tree} -- List contents of directories in a tree-like format\\'\\n        url: https://launchpad.net/ubuntu/+source/tree\\n        version: 1.8.0\\n        year: \\'2018\\'\\n        author:\\n        -   first: Steve\\n            last: Baker\\n    trim:\\n        type: software\\n        title: \\'{trim} -- Trim output to a given height and width\\'\\n        url: https://github.com/jeroenjanssens/dsutils\\n        year: \\'2021\\'\\n        author:\\n        -   first: Jeroen\\n            last: Janssens\\n    uniq:\\n        type: software\\n        title: \\'{uniq} -- Report or omit repeated lines\\'\\n        url: https://www.gnu.org/software/coreutils\\n        version: \\'8.30\\'\\n        year: \\'2019\\'\\n        author:\\n        -   first: Richard\\n            middle: M.\\n            last: Stallman\\n        -   first: David\\n            last: MacKenzie\\n    unpack:\\n        type: software\\n        title: \\'{unpack} -- Extract common file formats\\'\\n        url: https://github.com/jeroenjanssens/dsutils\\n        year: \\'2013\\'\\n        author:\\n        -   first: Patrick\\n            last: Brisbin\\n    unrar:\\n        type: software\\n        title: \\'{unrar} -- Extract files from rar archives\\'\\n        url: http://home.gna.org/unrar\\n        version: 0.0.1\\n        year: \\'2014\\'\\n        author:\\n        -   first: Ben\\n            last: Asselstine\\n        -   first: Christian\\n            last: Scheurer\\n        -   first: Johannes\\n            last: Winkelmann\\n    unzip:\\n        type: software\\n        title: \\'{unzip} -- List, test and extract compressed files in a {ZIP} archive\\'\\n        url: http://www.info-zip.org/pub/infozip\\n        version: \\'6.0\\'\\n        year: \\'2009\\'\\n        author:\\n        -   first: Samuel\\n            middle: H.\\n            last: Smith\\n        -   first: Ed\\n            last: Gordon\\n        -   first: Christian\\n            last: Spieler\\n        -   first: Onno\\n            prelast: van der\\n            last: Linden\\n        -   first: Mike\\n            last: White\\n        -   first: Kai\\n            middle: Uwe\\n            last: Rommel\\n        -   first: Steven\\n            middle: M.\\n            last: Schweda\\n        -   first: Paul\\n            last: Kienitz\\n        -   first: Chris\\n            last: Herborth\\n        -   first: Jonathan\\n            last: Hudson\\n        -   first: Sergio\\n            last: Monesi\\n        -   first: Harald\\n            last: Denker\\n        -   first: John\\n            last: Bush\\n        -   first: Hunter\\n            last: Goatley\\n        -   first: Steve\\n            last: Salisbury\\n        -   first: Steve\\n            last: Miller\\n        -   first: Dave\\n            last: Smith\\n    vw:\\n        type: software\\n        title: \\'{vw} -- Fast machine learning library for online learning\\'\\n        url: https://vowpalwabbit.org\\n        version: 8.10.1\\n        year: \\'2021\\'\\n        author:\\n        -   first: John\\n            last: Langford\\n    wc:\\n        type: software\\n        title: \\'{wc} -- Print newline, word, and byte counts for each file\\'\\n        url: https://www.gnu.org/software/coreutils\\n        version: \\'8.30\\'\\n        year: \\'2019\\'\\n        author:\\n        -   first: Paul\\n            last: Rubin\\n        -   first: David\\n            last: MacKenzie\\n    which:\\n        type: software\\n        title: \\'{which} -- Locate a command\\'\\n        url: \\'\\'\\n        year: \\'2016\\'\\n        author:\\n        -   last: Unknown\\n    xml2json:\\n        type: software\\n        title: \\'{xml2json} -- Convert an {XML} input to a {JSON} output, using {xml-mapping}\\'\\n        url: https://github.com/parmentf/xml2json\\n        version: 0.0.3\\n        year: \\'2016\\'\\n        author:\\n        -   first: François\\n            last: Parmentier\\n    xmlstarlet:\\n        type: software\\n        title: \\'{xmlstarlet} -- Command line {XML}/{XSLT} toolkit\\'\\n        url: https://sourceforge.net/projects/xmlstar\\n        version: 1.6.1\\n        year: \\'2019\\'\\n        author:\\n        -   first: Dagobert\\n            last: Michelsen\\n        -   first: Noam\\n            last: Postavsky\\n        -   first: Mikhail\\n            last: Grushinskiy\\n    xsv:\\n        type: software\\n        title: \\'{xsv} -- A fast {CSV} command line toolkit written in Rust\\'\\n        url: https://github.com/BurntSushi/xsv\\n        version: 0.13.0\\n        year: \\'2018\\'\\n        author:\\n        -   first: Andrew\\n            last: Gallant\\n    zsh:\\n        type: software\\n        title: \\'{zsh} -- The {Z} shell\\'\\n        url: https://www.zsh.org\\n        version: \\'5.8\\'\\n        year: \\'2020\\'\\n        author:\\n        -   first: Paul\\n            last: Falstad\\n        -   first: Peter\\n            last: Stephenson\\n    zcat:\\n        type: software\\n        title: \\'{zcat} -- Decompress and concatenate files to standard output\\'\\n        url: https://www.nongnu.org/zutils/zutils.html\\n        version: \\'1.10\\'\\n        year: \\'2021\\'\\n        author:\\n        -   first: Paul\\n            last: Eggert\\n'"
      ]
     },
     "execution_count": 124,
     "metadata": {},
     "output_type": "execute_result"
    }
   ],
   "source": [
    "bib.to_string(\"yaml\")"
   ]
  },
  {
   "cell_type": "code",
   "execution_count": null,
   "metadata": {},
   "outputs": [],
   "source": []
  }
 ],
 "metadata": {
  "kernelspec": {
   "display_name": "Python 3",
   "language": "python",
   "name": "python3"
  },
  "language_info": {
   "codemirror_mode": {
    "name": "ipython",
    "version": 3
   },
   "file_extension": ".py",
   "mimetype": "text/x-python",
   "name": "python",
   "nbconvert_exporter": "python",
   "pygments_lexer": "ipython3",
   "version": "3.8.6"
  }
 },
 "nbformat": 4,
 "nbformat_minor": 4
}
